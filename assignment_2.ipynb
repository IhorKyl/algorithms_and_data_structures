{
 "cells": [
  {
   "cell_type": "markdown",
   "metadata": {},
   "source": [
    "# Practice Interview\n",
    "\n",
    "## Objective\n",
    "\n",
    "_*The partner assignment aims to provide participants with the opportunity to practice coding in an interview context. You will analyze your partner's Assignment 1. Moreover, code reviews are common practice in a software development team. This assignment should give you a taste of the code review process.*_\n",
    "\n",
    "## Group Size\n",
    "\n",
    "Each group should have 2 people. You will be assigned a partner\n",
    "\n",
    "## Part 1:\n",
    "\n",
    "You and your partner must share each other's Assignment 1 submission."
   ]
  },
  {
   "cell_type": "markdown",
   "metadata": {},
   "source": [
    "Partner Moniz Chan\n",
    "https://github.com/monzchan/algorithms_and_data_structures/pulls\n",
    "\n",
    "His solution is for Question Two: Path to Leaves\n",
    "  Given the `root` of a binary tree, return all root to leaf paths in any order."
   ]
  },
  {
   "cell_type": "markdown",
   "metadata": {},
   "source": [
    "\n",
    "## Part 2:\n",
    "\n",
    "Create a Jupyter Notebook, create 6 of the following headings, and complete the following for your partner's assignment 1:\n",
    "\n",
    "-   Paraphrase the problem in your own words.\n"
   ]
  },
  {
   "cell_type": "code",
   "execution_count": null,
   "metadata": {},
   "outputs": [],
   "source": [
    "# Question Two: Path to Leaves\n",
    "# Given the `root` of a binary tree, return all root to leaf paths in any order.\n",
    "\n",
    "\n",
    "# There are a lot of hierarchical problems that can be handled using tree representation. \n",
    "# The nodes can represent cities, streets, ranks, or folders.\n",
    "\n",
    "# For this particular question 2, we are looking to build routes from the main delivery office \n",
    "# to our customers or to provide full paths from the main folders to the last ones."
   ]
  },
  {
   "cell_type": "markdown",
   "metadata": {},
   "source": [
    "\n",
    "-   Create 1 new example that demonstrates you understand the problem. Trace/walkthrough 1 example that your partner made and explain it.\n"
   ]
  },
  {
   "cell_type": "code",
   "execution_count": null,
   "metadata": {},
   "outputs": [],
   "source": [
    "# My additional example\n",
    "# Inpot: root = [ 11, 5, 4, 4, 3 ]\n",
    "# Output [[11, 5, 4], [11, 5, 3], [11, 4]]"
   ]
  },
  {
   "cell_type": "markdown",
   "metadata": {},
   "source": [
    "\n",
    "-   Copy the solution your partner wrote. \n"
   ]
  },
  {
   "cell_type": "code",
   "execution_count": 6,
   "metadata": {},
   "outputs": [
    {
     "name": "stdout",
     "output_type": "stream",
     "text": [
      "[[1, 2, 3], [1, 2, 5], [1, 2, 6], [1, 2, 7]]\n"
     ]
    }
   ],
   "source": [
    "# Your answer here\n",
    "class TreeNode:\n",
    "    def __init__(self, val=0, left=None, right=None):\n",
    "        self.val = val\n",
    "        self.left = left\n",
    "        self.right = right\n",
    "\n",
    "def bt_path(root):\n",
    "    def dfs(node, queue, visited_node):\n",
    "        if not node:\n",
    "            return\n",
    "        queue.append(node.val)\n",
    "        if not node.left and not node.right:\n",
    "            visited_node.append(list(queue))\n",
    "        else:\n",
    "            dfs(node.left, queue, visited_node)\n",
    "            dfs(node.right, queue, visited_node)\n",
    "        queue.pop()\n",
    "\n",
    "    visited_node = []\n",
    "    dfs(root, [], visited_node)\n",
    "    return visited_node\n",
    "\n",
    "def insertLevelOrder(arr, root, i, n):\n",
    "    if i < n:\n",
    "        new_node = TreeNode(arr[i])\n",
    "        root = new_node\n",
    "        root.left = insertLevelOrder(arr, root.left, 2 * i + 1, n)\n",
    "        root.right = insertLevelOrder(arr, root.right, 2 * i + 2, n)\n",
    "    return root\n",
    "\n",
    "# Input\n",
    "arr = [1, 2, 2, 3, 5, 6, 7]\n",
    "root = insertLevelOrder(arr, None, 0, len(arr))\n",
    "\n",
    "# Output\n",
    "visited_node = bt_path(root)\n",
    "print(visited_node)  "
   ]
  },
  {
   "cell_type": "code",
   "execution_count": 7,
   "metadata": {},
   "outputs": [
    {
     "name": "stdout",
     "output_type": "stream",
     "text": [
      "[[11, 5, 4], [11, 5, 3], [11, 4]]\n"
     ]
    }
   ],
   "source": [
    "arr = [ 11, 5, 4, 4, 3 ]\n",
    "\n",
    "visited_node = bt_path(insertLevelOrder(arr, None, 0, len(arr)))\n",
    "print(visited_node) "
   ]
  },
  {
   "cell_type": "markdown",
   "metadata": {},
   "source": [
    "\n",
    "-   Explain why their solution works in your own words.\n"
   ]
  },
  {
   "cell_type": "markdown",
   "metadata": {},
   "source": [
    "Chan's solution contains two functions. \n",
    "The insertLevelOrder function creates an ordered tree using the  Depth_first Search (DFS) method. After each call, new objects of the TreeNode class are created. TreeNode class objects are initialized with values for themselves, left, and right child objects that are returned from the next insertLevelOrder() call. The insertLevelOrder function calls itself recursively until the last element of the input list is processed.\n",
    "\n",
    "insertLevelOrder also covers the baseline for an empty input list. In this case, it will not build any TreeNode objects and will return an empty list result in the bt_path() function.\n",
    "\n",
    "The bt_path() function builds paths. It contains a function dfs() that calls itself recursively. The algorithm checks if there is at least one TreeNode object for the baseline and finishes the recursive call when the maximum depth is reached. It adds the node value to the queue list. Then it checks if the maximum depth of the branch is reached. If there is no left or right child in the branch, it is considered the maximum depth, and the queue list is copied to the visited_node list of lists. The current value is deleted from the queue, and the function returns to continue the previous call. If there is at least one more child, dfs() is called again, first for the left child object and then for the right child with the queue list and visited_node list as parameters."
   ]
  },
  {
   "cell_type": "markdown",
   "metadata": {},
   "source": [
    "\n",
    "-   Explain the problem’s time and space complexity in your own words.\n"
   ]
  },
  {
   "cell_type": "markdown",
   "metadata": {},
   "source": [
    "### Time complexity\n",
    "Function dfs() \n",
    "    queue.append()                          -  O (1)  \n",
    "    visited_node.append(list(queue))        -  O (m), where m is the list size     \n",
    "    dfs(node.left, queue, visited_node)   \n",
    "    dfs(node.right, queue, visited_node)    - Recursive calls for left and right nodes are O(n/2) each. O(n/2 + n/2) = O(n) for both. Each node is visited only once in the worst case.  \n",
    "    queue.pop()                             -  O (1)  \n",
    "\n",
    "Function insertLevelOrder()   \n",
    "    root.left = insertLevelOrder(arr, root.left, 2 * i + 1, n)    \n",
    "    root.right = insertLevelOrder(arr, root.right, 2 * i + 2, n)  - Recursive calls for left and right nodes are O(n/2) each. O(n/2 + n/2) = O(n) for both. Each node is visited only once in the worst case.\n",
    "\n",
    "Overall, the time complexity of this approach is O(n) + O(n) = O(n).\n",
    "\n",
    "### Space complexity\n",
    "Function dfs()  \n",
    "    dfs(node.left, queue, visited_node)     - each recursive call is O(n/2). O(n) for both.   \n",
    "    dfs(node.right, queue, visited_node)       \n",
    "    'queue' list                            - the tree is ordered and balanced, so worst space complexity for one path is O(log n).       \n",
    "    'visited_node' list of lists            - the path space complexity is O(log n). The number of paths is also O(n/2). Therefore, the space for paths is O(n * log n) =     O(n(log n)).  \n",
    "\n",
    "Function insertLevelOrder()  \n",
    "    root.left = insertLevelOrder(arr, root.left, 2 * i + 1, n)  \n",
    "    root.right = insertLevelOrder(arr, root.right, 2 * i + 2, n)        - each recursive call is O(n/2). O(n) for both.\n",
    "\n",
    "O(n) + O(n(log n)) + O(n) simplifies to O(n(log n)).\n",
    "\n",
    "The space complexity is O(n(log n))."
   ]
  },
  {
   "cell_type": "markdown",
   "metadata": {},
   "source": [
    "\n",
    "-   Critique your partner's solution, including explanation, and if there is anything that should be adjusted.\n"
   ]
  },
  {
   "cell_type": "code",
   "execution_count": null,
   "metadata": {},
   "outputs": [],
   "source": [
    "# Moniz Chan's solution works properly. The variable names show the meaning of what \n",
    "# each variable stands for. The code is well-structured, making it easy to understand \n",
    "# the main idea of the algorithm.\n",
    "\n",
    "# I would suggest a few minor improvements and changes:\n",
    "\n",
    "# We don't have a task to save all paths, so we can reduce space complexity to O(n) \n",
    "# by printing the path each time from the 'queue' list and not using 'visited_node' at all.\n",
    "# Merging the two functions into one will reduce processing time and redundant code. \n",
    "# However, the code will become a bit less structured and more complex to understand."
   ]
  },
  {
   "cell_type": "code",
   "execution_count": 67,
   "metadata": {},
   "outputs": [
    {
     "name": "stdout",
     "output_type": "stream",
     "text": [
      "[11, 5, 4]\n",
      "[11, 5, 3]\n",
      "[11, 4]\n"
     ]
    }
   ],
   "source": [
    "# Adjusted code\n",
    "class TreeNode:\n",
    "    def __init__(self, val=0, left=None, right=None):\n",
    "        self.val = val\n",
    "        self.left = left\n",
    "        self.right = right\n",
    "\n",
    "def bt_path(arr, root=None, i=0, n=len(arr), queue=[]):\n",
    "    if n==0:\n",
    "        return queue\n",
    "    if i < n:\n",
    "        new_node = TreeNode(arr[i])\n",
    "        queue.append(new_node.val)\n",
    "        root = new_node\n",
    "        root.left = insertLevelOrder(arr, root.left, 2 * i + 1, n, queue)\n",
    "        root.right = insertLevelOrder(arr, root.right, 2 * i + 2, n, queue)\n",
    "        if not root.left and not root.right:\n",
    "            print(queue) \n",
    "        queue.pop()\n",
    "        if i!=0 :\n",
    "            return root\n",
    "\n",
    "# arr = [1, 2, 2, 3, 5, 6, 7]\n",
    "arr = [11, 5, 4, 4, 3 ]\n",
    "bt_path (arr)"
   ]
  },
  {
   "cell_type": "markdown",
   "metadata": {},
   "source": [
    "\n",
    "## Part 3:\n",
    "\n",
    "Please write a 200 word reflection documenting your process from assignment 1, and your presentation and review experience with your partner at the bottom of the Jupyter Notebook under a new heading \"Reflection.\" Again, export this Notebook as pdf.\n"
   ]
  },
  {
   "cell_type": "markdown",
   "metadata": {},
   "source": [
    "### Reflection"
   ]
  },
  {
   "cell_type": "markdown",
   "metadata": {},
   "source": [
    "In Assignment 1, I started by reading and understanding the type of problem and questions. The process was split into smaller tasks and questions, making the workflow convenient step by step. I reviewed the session's PDF files to recap all possible approaches. The problem explanation was provided in simple words, so at the 'paraphrase the problem' task, I explained and mapped the problem to a real-life example.  \n",
    "\n",
    "To handle the code task, I used Jupyter Notebook and the Python programming language. Two different approaches were provided. Based on the time and space complexity analysis of both solutions, Solution 2 is more efficient and has clearer, more readable code.  \n",
    "\n",
    "The code problem solution wasn't hard; however, finding the most efficient one was challenging. Due to a lack of knowledge in how some functions are implemented in Python, it can be confusing to estimate the time and space complexity for these parts. Google helped discover this information.  \n",
    "\n",
    "The other solution is similar to the first one but uses recursion instead of a loop to go through the list. Actually, we can consider recursive implementation as loops, but they have worse limits. So recursion is not always the best choice, even if the solution contains more readable and understandable code. \n",
    "\n",
    "\n",
    "Assignment 2 had similar parts, so I used the same methodology and approaches for most questions.\n",
    "Upon reviewing Moniz Chan's answers, I concluded that he understands the problem well, provides clear explanations and correct examples, and has developed high-quality code. His code did not contain any errors and worked properly. However, I suggested a small improvement in code efficiency and space complexity.\n"
   ]
  },
  {
   "cell_type": "markdown",
   "metadata": {},
   "source": [
    "\n",
    "## Evaluation Criteria\n",
    "\n",
    "We are looking for the similar points as Assignment 1\n",
    "\n",
    "-   Problem is accurately stated\n",
    "\n",
    "-   New example is correct and easily understandable\n",
    "\n",
    "-   Correctness, time, and space complexity of the coding solution\n",
    "\n",
    "-   Clarity in explaining why the solution works, its time and space complexity\n",
    "\n",
    "-   Quality of critique of your partner's assignment, if necessary\n"
   ]
  },
  {
   "cell_type": "markdown",
   "metadata": {},
   "source": [
    "## Submission Information\n",
    "\n",
    "🚨 **Please review our [Assignment Submission Guide](https://github.com/UofT-DSI/onboarding/blob/main/onboarding_documents/submissions.md)** 🚨 for detailed instructions on how to format, branch, and submit your work. Following these guidelines is crucial for your submissions to be evaluated correctly.\n",
    "\n",
    "### Submission Parameters:\n",
    "* Submission Due Date: `HH:MM AM/PM - DD/MM/YYYY`\n",
    "* The branch name for your repo should be: `assignment-2`\n",
    "* What to submit for this assignment:\n",
    "    * This Jupyter Notebook (assignment_2.ipynb) should be populated and should be the only change in your pull request.\n",
    "* What the pull request link should look like for this assignment: `https://github.com/<your_github_username>/algorithms_and_data_structures/pull/<pr_id>`\n",
    "    * Open a private window in your browser. Copy and paste the link to your pull request into the address bar. Make sure you can see your pull request properly. This helps the technical facilitator and learning support staff review your submission easily.\n",
    "\n",
    "Checklist:\n",
    "- [ ] Created a branch with the correct naming convention.\n",
    "- [ ] Ensured that the repository is public.\n",
    "- [ ] Reviewed the PR description guidelines and adhered to them.\n",
    "- [ ] Verify that the link is accessible in a private browser window.\n",
    "\n",
    "If you encounter any difficulties or have questions, please don't hesitate to reach out to our team via our Slack at `#cohort-3-help`. Our Technical Facilitators and Learning Support staff are here to help you navigate any challenges.\n"
   ]
  }
 ],
 "metadata": {
  "kernelspec": {
   "display_name": "dsi_participant",
   "language": "python",
   "name": "python3"
  },
  "language_info": {
   "codemirror_mode": {
    "name": "ipython",
    "version": 3
   },
   "file_extension": ".py",
   "mimetype": "text/x-python",
   "name": "python",
   "nbconvert_exporter": "python",
   "pygments_lexer": "ipython3",
   "version": "3.9.15"
  }
 },
 "nbformat": 4,
 "nbformat_minor": 2
}
